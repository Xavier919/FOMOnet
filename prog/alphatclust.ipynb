{
 "cells": [
  {
   "cell_type": "code",
   "execution_count": 1,
   "id": "b58f7600",
   "metadata": {},
   "outputs": [],
   "source": [
    "import pickle\n",
    "import torch\n",
    "from torch import nn\n",
    "import torchvision\n",
    "import torch.optim as optim\n",
    "from tqdm import tqdm_notebook as tqdm"
   ]
  },
  {
   "cell_type": "code",
   "execution_count": 2,
   "id": "713f16ab",
   "metadata": {},
   "outputs": [],
   "source": [
    "from modules.utils import *"
   ]
  },
  {
   "cell_type": "code",
   "execution_count": 3,
   "id": "8257ae81",
   "metadata": {},
   "outputs": [],
   "source": [
    "ensembl_trx = pickle.load(open('data/ensembl_trx.pkl', 'rb'))\n",
    "trx_orfs = pickle.load(open('data/trx_orfs.pkl', 'rb'))\n",
    "dataset = pickle.load(open('data/dataset.pkl', 'rb'))\n",
    "pseudogene_dataset = pickle.load(open('data/pseudogene_dataset.pkl', 'rb'))"
   ]
  },
  {
   "cell_type": "code",
   "execution_count": 4,
   "id": "d9aef5a9",
   "metadata": {},
   "outputs": [],
   "source": [
    "clustering_dataset = {x:y[\"sequence\"] for (x,y) in ensembl_trx.items() if x in dataset or x in pseudogene_dataset}"
   ]
  },
  {
   "cell_type": "code",
   "execution_count": 6,
   "id": "221270a6",
   "metadata": {},
   "outputs": [],
   "source": [
    "data = [(x,y) for x,y in clustering_dataset.items()]"
   ]
  },
  {
   "cell_type": "code",
   "execution_count": 8,
   "id": "a910295b",
   "metadata": {},
   "outputs": [],
   "source": [
    "def build_fasta(data, filename):\n",
    "    fasta_sequences = []\n",
    "    for i, trx in enumerate(data):\n",
    "        trx_id, seq = trx[0], trx[1]\n",
    "        header = f'>{i} {trx_id}'\n",
    "        fasta_sequence = header + '\\n' + seq.upper()\n",
    "        fasta_sequences.append(fasta_sequence)\n",
    "    \n",
    "    fasta_text = '\\n'.join(fasta_sequences)\n",
    "    \n",
    "    with open(filename + '.fasta', 'w') as fasta_file:\n",
    "        fasta_file.write(fasta_text)"
   ]
  },
  {
   "cell_type": "code",
   "execution_count": 9,
   "id": "56aef7d0",
   "metadata": {},
   "outputs": [],
   "source": [
    "build_fasta(data, 'mydb')"
   ]
  },
  {
   "cell_type": "code",
   "execution_count": null,
   "id": "cda3cd16",
   "metadata": {},
   "outputs": [],
   "source": []
  },
  {
   "cell_type": "code",
   "execution_count": null,
   "id": "189f50c0",
   "metadata": {},
   "outputs": [],
   "source": []
  },
  {
   "cell_type": "code",
   "execution_count": null,
   "id": "ac5d86fe",
   "metadata": {},
   "outputs": [],
   "source": []
  },
  {
   "cell_type": "code",
   "execution_count": null,
   "id": "343d8c89",
   "metadata": {},
   "outputs": [],
   "source": []
  },
  {
   "cell_type": "code",
   "execution_count": 5,
   "id": "6bd6455e",
   "metadata": {},
   "outputs": [],
   "source": [
    "psicube_trx = dict()\n",
    "with open('psicube_trx.txt', 'r') as f:\n",
    "    reader = csv.reader(f, delimiter='\\t')\n",
    "    for n, row in enumerate(reader):\n",
    "        if n == 0:\n",
    "            cols = row\n",
    "            continue\n",
    "        line = dict(zip(cols, row))\n",
    "        pseudo_trx = line[\"ID\"].split(\".\")[0]\n",
    "        if \"Parent transcript\" not in line:\n",
    "            continue\n",
    "        parent_trx = line[\"Parent transcript\"].split(\".\")[0]\n",
    "        psicube_trx[pseudo_trx] = parent_trx"
   ]
  },
  {
   "cell_type": "code",
   "execution_count": 6,
   "id": "4b5f7583",
   "metadata": {},
   "outputs": [
    {
     "data": {
      "text/plain": [
       "10370"
      ]
     },
     "execution_count": 6,
     "metadata": {},
     "output_type": "execute_result"
    }
   ],
   "source": [
    "len(psicube_trx)"
   ]
  },
  {
   "cell_type": "code",
   "execution_count": null,
   "id": "0c0e5094",
   "metadata": {},
   "outputs": [],
   "source": []
  },
  {
   "cell_type": "code",
   "execution_count": 7,
   "id": "4aa7c70a",
   "metadata": {},
   "outputs": [],
   "source": [
    "cluster_dict = {}\n",
    "current_cluster = ''\n",
    "with open('output.txt', 'r') as f:\n",
    "    for line in f:\n",
    "        if line.startswith('#'):\n",
    "            current_cluster = line.strip()\n",
    "            cluster_dict[current_cluster] = []\n",
    "        else:\n",
    "            _, enst = line.strip().split()\n",
    "            cluster_dict[current_cluster].append(enst)"
   ]
  },
  {
   "cell_type": "code",
   "execution_count": 8,
   "id": "880dc394",
   "metadata": {},
   "outputs": [
    {
     "data": {
      "text/plain": [
       "16353"
      ]
     },
     "execution_count": 8,
     "metadata": {},
     "output_type": "execute_result"
    }
   ],
   "source": [
    "len(cluster_dict)"
   ]
  },
  {
   "cell_type": "code",
   "execution_count": null,
   "id": "f18a60d6",
   "metadata": {},
   "outputs": [],
   "source": []
  },
  {
   "cell_type": "code",
   "execution_count": 16,
   "id": "c881c0f7",
   "metadata": {},
   "outputs": [],
   "source": [
    "count = 0\n",
    "check = 0\n",
    "for cluster, trxps in cluster_dict.items():\n",
    "    for trx in trxps:\n",
    "        if trx in psicube_trx and psicube_trx[trx] in dataset:\n",
    "            check += 1\n",
    "            parent = psicube_trx[trx]\n",
    "            if parent in trxps:\n",
    "                count += 1\n",
    "        else:\n",
    "            continue"
   ]
  },
  {
   "cell_type": "code",
   "execution_count": 17,
   "id": "6d5bd724",
   "metadata": {},
   "outputs": [
    {
     "data": {
      "text/plain": [
       "4974"
      ]
     },
     "execution_count": 17,
     "metadata": {},
     "output_type": "execute_result"
    }
   ],
   "source": [
    "count"
   ]
  },
  {
   "cell_type": "code",
   "execution_count": 18,
   "id": "eea515e2",
   "metadata": {},
   "outputs": [
    {
     "data": {
      "text/plain": [
       "6599"
      ]
     },
     "execution_count": 18,
     "metadata": {},
     "output_type": "execute_result"
    }
   ],
   "source": [
    "check"
   ]
  },
  {
   "cell_type": "code",
   "execution_count": null,
   "id": "eca21b06",
   "metadata": {},
   "outputs": [],
   "source": []
  },
  {
   "cell_type": "code",
   "execution_count": null,
   "id": "e7d4beec",
   "metadata": {},
   "outputs": [],
   "source": []
  },
  {
   "cell_type": "code",
   "execution_count": 20,
   "id": "cc6c0359",
   "metadata": {},
   "outputs": [],
   "source": [
    "strings = [x for x in cluster_dict.keys()]\n",
    "random.seed(5)\n",
    "random.shuffle(strings)\n",
    "bins = np.array_split(strings, 5)\n",
    "split_dict = dict()\n",
    "for idx, bin_ in enumerate(bins):\n",
    "    for cluster in bin_:\n",
    "        for trx in cluster_dict[cluster]:\n",
    "            split_dict[trx] = idx"
   ]
  },
  {
   "cell_type": "code",
   "execution_count": 21,
   "id": "d358f6aa",
   "metadata": {},
   "outputs": [],
   "source": [
    "from collections import Counter"
   ]
  },
  {
   "cell_type": "code",
   "execution_count": 22,
   "id": "d145cd05",
   "metadata": {},
   "outputs": [
    {
     "data": {
      "text/plain": [
       "Counter({0: 13488, 1: 13018, 2: 12822, 3: 13678, 4: 13290})"
      ]
     },
     "execution_count": 22,
     "metadata": {},
     "output_type": "execute_result"
    }
   ],
   "source": [
    "Counter([x for x in split_dict.values()])"
   ]
  },
  {
   "cell_type": "code",
   "execution_count": null,
   "id": "17b03493",
   "metadata": {},
   "outputs": [],
   "source": []
  },
  {
   "cell_type": "code",
   "execution_count": 66,
   "id": "8cff0ca6",
   "metadata": {},
   "outputs": [],
   "source": [
    "pickle.dump(split_dict, open('data/split_dict.pkl', 'wb'))"
   ]
  },
  {
   "cell_type": "code",
   "execution_count": null,
   "id": "9c91d67d",
   "metadata": {},
   "outputs": [],
   "source": []
  },
  {
   "cell_type": "code",
   "execution_count": null,
   "id": "a79e5119",
   "metadata": {},
   "outputs": [],
   "source": []
  }
 ],
 "metadata": {
  "kernelspec": {
   "display_name": "Python 3 (ipykernel)",
   "language": "python",
   "name": "python3"
  },
  "language_info": {
   "codemirror_mode": {
    "name": "ipython",
    "version": 3
   },
   "file_extension": ".py",
   "mimetype": "text/x-python",
   "name": "python",
   "nbconvert_exporter": "python",
   "pygments_lexer": "ipython3",
   "version": "3.10.7"
  }
 },
 "nbformat": 4,
 "nbformat_minor": 5
}
