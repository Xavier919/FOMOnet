{
 "cells": [
  {
   "cell_type": "code",
   "execution_count": 2,
   "id": "01bdd79c",
   "metadata": {},
   "outputs": [],
   "source": [
    "import pickle\n",
    "from matplotlib import pyplot as plt\n",
    "import numpy as np\n",
    "import pandas as pd\n",
    "import torch\n",
    "from scipy.integrate import trapz\n",
    "from tqdm.notebook import tqdm\n",
    "from modules.visualize import *\n",
    "from modules.utils import *\n",
    "from collections import Counter"
   ]
  },
  {
   "cell_type": "code",
   "execution_count": 22,
   "id": "efb63cd0",
   "metadata": {},
   "outputs": [],
   "source": [
    "trx_orfs = pickle.load(open('data/trx_orfs.pkl', 'rb'))\n",
    "ensembl_trx = pickle.load(open('data/ensembl_trx.pkl', 'rb'))\n",
    "candidate_list = pickle.load(open('data/candidate_list.pkl', 'rb'))\n",
    "dataset = pickle.load(open('data/dataset.pkl', 'rb'))"
   ]
  },
  {
   "cell_type": "code",
   "execution_count": 4,
   "id": "d44d7c73",
   "metadata": {},
   "outputs": [],
   "source": [
    "#build_fasta([(x,y['sequence']) for x,y in ensembl_trx.items() if y['biotype'] == 'pseudogene'], 'pseudo')"
   ]
  },
  {
   "cell_type": "markdown",
   "id": "cd611c8c",
   "metadata": {},
   "source": [
    "### Build TIS_transformer dataset"
   ]
  },
  {
   "cell_type": "code",
   "execution_count": 5,
   "id": "4d66fe12",
   "metadata": {},
   "outputs": [],
   "source": [
    "#tis_transformer_dataset = [(x,y['sequence']) for x,y in ensembl_trx.items() if x in candidate_list]\n",
    "#chr_splits = [('1','7','13','19'),('2','8','14','20'),('3','9','15','21'),('4','10','16','22'),('5','11','17','X'), ('6','12','18','Y')]\n",
    "#for i, chr_split in enumerate(chr_splits):\n",
    "#    tis_split = [x for x in tis_transformer_dataset if ensembl_trx[x[0]]['chromosome'] in chr_split]\n",
    "#    build_fasta(tis_split, f'tis_split{i}')"
   ]
  },
  {
   "cell_type": "code",
   "execution_count": null,
   "id": "94ef168b",
   "metadata": {},
   "outputs": [],
   "source": []
  },
  {
   "cell_type": "markdown",
   "id": "e6dd5db1",
   "metadata": {},
   "source": [
    "### Load predictions"
   ]
  },
  {
   "cell_type": "code",
   "execution_count": 6,
   "id": "3d376d5a",
   "metadata": {},
   "outputs": [
    {
     "data": {
      "application/vnd.jupyter.widget-view+json": {
       "model_id": "ec3652e648b24b208a7188c911cf516c",
       "version_major": 2,
       "version_minor": 0
      },
      "text/plain": [
       "  0%|          | 0/6 [00:00<?, ?it/s]"
      ]
     },
     "metadata": {},
     "output_type": "display_data"
    }
   ],
   "source": [
    "dfs = []\n",
    "for i in tqdm(range(0,6)):\n",
    "    csv_file = f'benchmark/tis_split{i}_results.csv'\n",
    "    df = pd.read_csv(csv_file, usecols=['ID', 'TIS_pos','TTS_pos','output'])\n",
    "    dfs.append(df)\n",
    "df = pd.concat(dfs, ignore_index=True)\n",
    "df = df.T.to_dict()"
   ]
  },
  {
   "cell_type": "markdown",
   "id": "5aabc4af",
   "metadata": {},
   "source": [
    "### "
   ]
  },
  {
   "cell_type": "code",
   "execution_count": 7,
   "id": "b868788c",
   "metadata": {},
   "outputs": [
    {
     "data": {
      "application/vnd.jupyter.widget-view+json": {
       "model_id": "3d2435381bc84928ae6d064eda0a51da",
       "version_major": 2,
       "version_minor": 0
      },
      "text/plain": [
       "  0%|          | 0/91459 [00:00<?, ?it/s]"
      ]
     },
     "metadata": {},
     "output_type": "display_data"
    }
   ],
   "source": [
    "tis_dict = dict()\n",
    "for _, attrs in tqdm(df.items()):\n",
    "    stop_dict = dict()\n",
    "    trx = attrs['ID'].strip(\"['']\")\n",
    "    output = attrs['output']\n",
    "    TIS_pos = attrs['TIS_pos']\n",
    "    TTS_pos = attrs['TTS_pos']+3\n",
    "    stop_dict[TTS_pos] = {'output':output,\n",
    "                         'TIS_pos':TIS_pos}\n",
    "    if trx not in tis_dict:\n",
    "        tis_dict[trx] = stop_dict\n",
    "    elif TTS_pos in tis_dict[trx] and output > tis_dict[trx][TTS_pos]['output']:\n",
    "        tis_dict[trx][TTS_pos] = {'output':output,\n",
    "                                  'TIS_pos':TIS_pos}\n",
    "    else:\n",
    "        tis_dict[trx][TTS_pos] = {'output':output,\n",
    "                                  'TIS_pos':TIS_pos}"
   ]
  },
  {
   "cell_type": "markdown",
   "id": "b55ef6fa",
   "metadata": {},
   "source": [
    "### Build a trx/cds stop coord, ground truth dict"
   ]
  },
  {
   "cell_type": "code",
   "execution_count": 34,
   "id": "e2b23c31",
   "metadata": {},
   "outputs": [],
   "source": [
    "tis_transformer_dataset = [(x,y['sequence']) for x,y in ensembl_trx.items() if x in candidate_list]"
   ]
  },
  {
   "cell_type": "code",
   "execution_count": 35,
   "id": "a044cb19",
   "metadata": {},
   "outputs": [],
   "source": [
    "trx_ids = [x[0] for x in tis_transformer_dataset]\n",
    "trx_stop_coord = dict()\n",
    "for trx in trx_ids:\n",
    "    for orf, attrs in trx_orfs[trx].items():\n",
    "        if orf.startswith('ENSP'):\n",
    "            trx_stop_coord[trx] = attrs['stop']"
   ]
  },
  {
   "cell_type": "code",
   "execution_count": null,
   "id": "f8858df9",
   "metadata": {},
   "outputs": [],
   "source": []
  },
  {
   "cell_type": "markdown",
   "id": "c2d9d750",
   "metadata": {},
   "source": [
    "### CDS inference"
   ]
  },
  {
   "cell_type": "code",
   "execution_count": 47,
   "id": "40fd9f13",
   "metadata": {},
   "outputs": [],
   "source": [
    "tis_infered_cds = dict()\n",
    "for trx, info in dataset.items():\n",
    "    seq_tensor = torch.zeros(len(ensembl_trx[trx]['sequence']))\n",
    "    if trx not in tis_dict:\n",
    "        tis_infered_cds[trx] = {'seq': seq_tensor,\n",
    "                                'mapped_cds': info['mapped_cds'],\n",
    "                                'chromosome': dataset[trx]['chromosome']}\n",
    "        continue\n",
    "    sorted_output = dict(sorted(tis_dict[trx].items(), key=lambda item: item[1]['output']))\n",
    "    for stop, attrs in sorted_output.items():\n",
    "        start = attrs['TIS_pos']\n",
    "        seq_tensor[start:stop] = attrs['output']\n",
    "    tis_infered_cds[trx] = {'seq': seq_tensor,\n",
    "                            'mapped_cds': info['mapped_cds'],\n",
    "                            'chromosome': dataset[trx]['chromosome']}"
   ]
  },
  {
   "cell_type": "code",
   "execution_count": 49,
   "id": "c91442cb",
   "metadata": {},
   "outputs": [],
   "source": [
    "chr_splits = [('1','7','13','19'),('2','8','14','20'),('3','9','15','21'),('4','10','16','22'),('5','11','17','X'), ('6','12','18','Y')]\n",
    "for idx, chr_split in enumerate(chr_splits):\n",
    "    preds = [x['seq'] for x in tis_infered_cds.values() if x['chromosome'] in chr_split]\n",
    "    targets = [x['mapped_cds'] for x in tis_infered_cds.values() if x['chromosome'] in chr_split]\n",
    "    pickle.dump((preds,targets), open(f'tis_infered_split{idx+1}.pkl', 'wb'))"
   ]
  },
  {
   "cell_type": "code",
   "execution_count": null,
   "id": "27f80a41",
   "metadata": {},
   "outputs": [],
   "source": []
  },
  {
   "cell_type": "markdown",
   "id": "6f324f52",
   "metadata": {},
   "source": [
    "### Compute confusion matrix"
   ]
  },
  {
   "cell_type": "code",
   "execution_count": 16,
   "id": "14cda5be",
   "metadata": {},
   "outputs": [
    {
     "data": {
      "application/vnd.jupyter.widget-view+json": {
       "model_id": "678b440a2076461b9d1730ce2c621fb4",
       "version_major": 2,
       "version_minor": 0
      },
      "text/plain": [
       "  0%|          | 0/100 [00:00<?, ?it/s]"
      ]
     },
     "metadata": {},
     "output_type": "display_data"
    }
   ],
   "source": [
    "recalls = []\n",
    "precisions = []\n",
    "for t in tqdm(np.linspace(0,0.999,100)):\n",
    "    tis_results = {trx_id: {'TP': 0, 'FP': 0, 'FN': 0, 'TN':0} for trx_id in trx_ids}\n",
    "    for trx in trx_ids:\n",
    "        \n",
    "        #seq = ensembl_trx[trx]['sequence']\n",
    "        #trx_stops = [x[1] for x in find_orfs(seq)]\n",
    "        #for stop in trx_stops:\n",
    "        #    if stop != trx_stop_coord[trx]:\n",
    "        #        if trx not in tis_dict or stop not in [x for x in tis_dict[trx].keys()]:\n",
    "        #            tis_results[trx]['TN'] += 1\n",
    "                    \n",
    "        if trx not in tis_dict:\n",
    "            continue    \n",
    "\n",
    "        for stop, attrs in tis_dict[trx].items():\n",
    "            if stop == trx_stop_coord[trx] and attrs['output'] >= t:\n",
    "                tis_results[trx]['TP'] += 1\n",
    "            elif stop == trx_stop_coord[trx] and attrs['output'] < t:\n",
    "                tis_results[trx]['FN'] += 1\n",
    "            elif stop != trx_stop_coord[trx] and attrs['output'] >= t:\n",
    "                tis_results[trx]['FP'] += 1\n",
    "    for trx, attrs in tis_results.items():\n",
    "        if all(v == 0 for v in attrs.values()):\n",
    "            tis_results[trx]['FN'] += 1\n",
    "    \n",
    "    \n",
    "    TP = Counter([x['TP'] for x in tis_results.values()])[1]\n",
    "    FN = Counter([x['FN'] for x in tis_results.values()])[1]\n",
    "    FP = Counter([x['FP'] for x in tis_results.values()])[1]\n",
    "\n",
    "    recall = TP/(TP+FN)\n",
    "    precision = TP/(TP+FP)\n",
    "    \n",
    "    recalls.append(recall)\n",
    "    precisions.append(precision)"
   ]
  },
  {
   "cell_type": "code",
   "execution_count": null,
   "id": "f6a35bee",
   "metadata": {},
   "outputs": [],
   "source": []
  },
  {
   "cell_type": "code",
   "execution_count": 17,
   "id": "22330eda",
   "metadata": {},
   "outputs": [
    {
     "name": "stdout",
     "output_type": "stream",
     "text": [
      "Area Under Curve: 0.946815629484353\n"
     ]
    }
   ],
   "source": [
    "combined = sorted(zip(recalls, precisions))\n",
    "sorted_recalls, sorted_precisions = zip(*combined)\n",
    "auc = trapz(sorted_precisions, sorted_recalls)\n",
    "print(\"Area Under Curve:\", auc)"
   ]
  },
  {
   "cell_type": "code",
   "execution_count": 18,
   "id": "7bf56768",
   "metadata": {},
   "outputs": [
    {
     "data": {
      "text/plain": [
       "Text(0.5, 0, 'recall')"
      ]
     },
     "execution_count": 18,
     "metadata": {},
     "output_type": "execute_result"
    },
    {
     "data": {
      "image/png": "[encoded data removed]",
      "text/plain": [
       "<Figure size 432x288 with 1 Axes>"
      ]
     },
     "metadata": {
      "needs_background": "light"
     },
     "output_type": "display_data"
    }
   ],
   "source": [
    "plt.ylim(0,1)\n",
    "plt.xlim(0,1)\n",
    "\n",
    "plt.plot(recalls, precisions)\n",
    "plt.title('precision-recall curve')\n",
    "plt.ylabel('precision')\n",
    "plt.xlabel('recall')"
   ]
  },
  {
   "cell_type": "code",
   "execution_count": null,
   "id": "382cfc59",
   "metadata": {},
   "outputs": [],
   "source": []
  }
 ],
 "metadata": {
  "kernelspec": {
   "display_name": "Python 3 (ipykernel)",
   "language": "python",
   "name": "python3"
  },
  "language_info": {
   "codemirror_mode": {
    "name": "ipython",
    "version": 3
   },
   "file_extension": ".py",
   "mimetype": "text/x-python",
   "name": "python",
   "nbconvert_exporter": "python",
   "pygments_lexer": "ipython3",
   "version": "3.9.12"
  }
 },
 "nbformat": 4,
 "nbformat_minor": 5
}
