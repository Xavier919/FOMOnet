{
 "cells": [
  {
   "cell_type": "code",
   "execution_count": 1,
   "id": "c11bc6aa",
   "metadata": {},
   "outputs": [],
   "source": [
    "#imports\n",
    "import pickle\n",
    "import torch\n",
    "import math\n",
    "import numpy as np\n",
    "from collections import Counter\n",
    "from sklearn.model_selection import train_test_split"
   ]
  },
  {
   "cell_type": "code",
   "execution_count": 2,
   "id": "b043b0a7",
   "metadata": {},
   "outputs": [],
   "source": [
    "#project specific imports\n",
    "from modules.utils import *\n",
    "from modules.build_dataset import *"
   ]
  },
  {
   "cell_type": "code",
   "execution_count": null,
   "id": "04fc446c",
   "metadata": {},
   "outputs": [],
   "source": []
  },
  {
   "cell_type": "code",
   "execution_count": 3,
   "id": "f03a21c8",
   "metadata": {},
   "outputs": [],
   "source": [
    "#OP_tsv: OpenProt 1.6\n",
    "#Ens_trx: mart_export (ensembl 95)\n",
    "#trx_fasta: transcripts fasta (ensembl 95)\n",
    "data = Data(\n",
    "    OP_tsv = 'data/project_data/human-openprot-r1_6-refprots+altprots+isoforms-+uniprot2019_03_01.tsv', \n",
    "    Ens_trx = 'data/project_data/mart_export.txt',\n",
    "    trx_fasta = 'data/project_data/ensembl95_trxps.fasta'\n",
    ")"
   ]
  },
  {
   "cell_type": "code",
   "execution_count": null,
   "id": "b352e0a6",
   "metadata": {},
   "outputs": [],
   "source": []
  },
  {
   "cell_type": "code",
   "execution_count": 4,
   "id": "65845636",
   "metadata": {},
   "outputs": [],
   "source": [
    "ensembl_trx = data.ensembl_trx()\n",
    "pickle.dump(ensembl_trx, open('data/ensembl_trx.pkl', 'wb'))\n",
    "#ensembl_trx = pickle.load(open('data/ensembl_trx.pkl', 'rb'))"
   ]
  },
  {
   "cell_type": "code",
   "execution_count": 5,
   "id": "e1a7fe59",
   "metadata": {},
   "outputs": [],
   "source": [
    "trx_orfs = data.trx_orfs(ensembl_trx)\n",
    "pickle.dump(trx_orfs, open('data/trx_orfs.pkl', 'wb'))\n",
    "#trx_orfs = pickle.load(open('data/trx_orfs.pkl', 'rb'))"
   ]
  },
  {
   "cell_type": "code",
   "execution_count": null,
   "id": "e60a9383",
   "metadata": {},
   "outputs": [],
   "source": []
  },
  {
   "cell_type": "code",
   "execution_count": null,
   "id": "dcf9e5ae",
   "metadata": {},
   "outputs": [],
   "source": []
  },
  {
   "cell_type": "code",
   "execution_count": 6,
   "id": "d64dce90",
   "metadata": {},
   "outputs": [],
   "source": [
    "#candidate_list = data.get_candidate_list(trx_orfs, ensembl_trx)\n",
    "#pickle.dump(candidate_list, open('data/candidate_list.pkl', 'wb'))\n",
    "#candidate_list = pickle.load(open('data/candidate_list.pkl', 'rb'))"
   ]
  },
  {
   "cell_type": "code",
   "execution_count": 7,
   "id": "f010a57e",
   "metadata": {},
   "outputs": [],
   "source": [
    "#len(candidate_list)"
   ]
  },
  {
   "cell_type": "code",
   "execution_count": 8,
   "id": "89329d76",
   "metadata": {},
   "outputs": [],
   "source": [
    "#dataset = data.dataset(ensembl_trx, trx_orfs, candidate_list)\n",
    "#pickle.dump(dataset, open('data/dataset.pkl', 'wb'))\n",
    "#dataset = pickle.load(open('data/dataset.pkl', 'rb'))\n",
    "\n",
    "#data.split_dataset(dataset, 'split')"
   ]
  },
  {
   "cell_type": "code",
   "execution_count": null,
   "id": "d627de1a",
   "metadata": {},
   "outputs": [],
   "source": []
  },
  {
   "cell_type": "code",
   "execution_count": null,
   "id": "0470c17a",
   "metadata": {},
   "outputs": [],
   "source": []
  },
  {
   "cell_type": "code",
   "execution_count": null,
   "id": "15c69a4f",
   "metadata": {},
   "outputs": [],
   "source": []
  },
  {
   "cell_type": "code",
   "execution_count": 9,
   "id": "01159d8a",
   "metadata": {},
   "outputs": [],
   "source": [
    "#alt_dataset = data.alt_dataset(ensembl_trx)\n",
    "#data.split_dataset(alt_dataset, 'alt_split')"
   ]
  },
  {
   "cell_type": "code",
   "execution_count": null,
   "id": "3c7ecdf6",
   "metadata": {},
   "outputs": [],
   "source": []
  }
 ],
 "metadata": {
  "kernelspec": {
   "display_name": "Python 3 (ipykernel)",
   "language": "python",
   "name": "python3"
  },
  "language_info": {
   "codemirror_mode": {
    "name": "ipython",
    "version": 3
   },
   "file_extension": ".py",
   "mimetype": "text/x-python",
   "name": "python",
   "nbconvert_exporter": "python",
   "pygments_lexer": "ipython3",
   "version": "3.9.12"
  }
 },
 "nbformat": 4,
 "nbformat_minor": 5
}
