{
 "cells": [
  {
   "cell_type": "code",
   "execution_count": 1,
   "id": "c11bc6aa",
   "metadata": {},
   "outputs": [],
   "source": [
    "#imports\n",
    "import pickle\n",
    "import torch\n",
    "from torch import nn\n",
    "import torchvision\n",
    "import torch.optim as optim"
   ]
  },
  {
   "cell_type": "code",
   "execution_count": 2,
   "id": "b043b0a7",
   "metadata": {},
   "outputs": [],
   "source": [
    "#project specific imports\n",
    "from modules.utils import *\n",
    "from modules.build_dataset import *"
   ]
  },
  {
   "cell_type": "code",
   "execution_count": null,
   "id": "04fc446c",
   "metadata": {},
   "outputs": [],
   "source": []
  },
  {
   "cell_type": "code",
   "execution_count": 3,
   "id": "f03a21c8",
   "metadata": {},
   "outputs": [],
   "source": [
    "#OP_tsv: OpenProt 1.6\n",
    "#Ens_trx: mart_export (ensembl 95)\n",
    "#trx_fasta: transcripts fasta (ensembl 95)\n",
    "#sorfs: list of ribo-seq orfs (mudge & al., 2022)\n",
    "data = Data(\n",
    "    OP_tsv = 'data/human-openprot-r1_6-refprots+altprots+isoforms-+uniprot2019_03_01.tsv', \n",
    "    Ens_trx = 'data/mart_export.txt',\n",
    "    trx_fasta = 'data/ensembl95_trxps.fasta',\n",
    "    sorfs = 'data/sorfs.xlsx'\n",
    ")"
   ]
  },
  {
   "cell_type": "code",
   "execution_count": null,
   "id": "5dc659de",
   "metadata": {},
   "outputs": [],
   "source": []
  },
  {
   "cell_type": "code",
   "execution_count": 4,
   "id": "65845636",
   "metadata": {},
   "outputs": [],
   "source": [
    "#ensembl_trx = data.ensembl_trx()\n",
    "#pickle.dump(ensembl_trx, open('data/ensembl_trx.pkl', 'wb'))\n",
    "ensembl_trx = pickle.load(open('data/ensembl_trx.pkl', 'rb'))"
   ]
  },
  {
   "cell_type": "code",
   "execution_count": 5,
   "id": "e1a7fe59",
   "metadata": {},
   "outputs": [],
   "source": [
    "#trx_orfs = data.trx_orfs(ensembl_trx)\n",
    "#pickle.dump(trx_orfs, open('data/trx_orfs.pkl', 'wb'))\n",
    "trx_orfs = pickle.load(open('data/trx_orfs.pkl', 'rb'))"
   ]
  },
  {
   "cell_type": "code",
   "execution_count": 4,
   "id": "4287692e",
   "metadata": {},
   "outputs": [],
   "source": [
    "#dataset = data.dataset(ensembl_trx, trx_orfs)\n",
    "#pickle.dump(dataset, open('data/dataset.pkl', 'wb'))\n",
    "dataset = pickle.load(open('data/dataset.pkl', 'rb'))"
   ]
  },
  {
   "cell_type": "code",
   "execution_count": null,
   "id": "a1ee3cef",
   "metadata": {},
   "outputs": [],
   "source": []
  },
  {
   "cell_type": "code",
   "execution_count": 6,
   "id": "4b711fa1",
   "metadata": {},
   "outputs": [
    {
     "data": {
      "text/plain": [
       "15965"
      ]
     },
     "execution_count": 6,
     "metadata": {},
     "output_type": "execute_result"
    }
   ],
   "source": [
    "len(dataset)"
   ]
  },
  {
   "cell_type": "code",
   "execution_count": null,
   "id": "5f8aab9a",
   "metadata": {},
   "outputs": [],
   "source": []
  },
  {
   "cell_type": "code",
   "execution_count": 7,
   "id": "f0feaffa",
   "metadata": {},
   "outputs": [],
   "source": [
    "#nc_dataset = data.nc_dataset(ensembl_trx, trx_orfs)\n",
    "#pickle.dump(nc_dataset, open('data/nc_dataset.pkl', 'wb'))\n",
    "#nc_dataset = pickle.load(open('data/nc_dataset.pkl', 'rb'))"
   ]
  },
  {
   "cell_type": "code",
   "execution_count": null,
   "id": "a66ef711",
   "metadata": {},
   "outputs": [],
   "source": []
  },
  {
   "cell_type": "code",
   "execution_count": 8,
   "id": "710d3461",
   "metadata": {},
   "outputs": [],
   "source": [
    "#sorfs_dataset = data.sorfs_dataset(ensembl_trx)\n",
    "#pickle.dump(sorfs_dataset, open('data/sorfs_dataset.pkl', 'wb'))"
   ]
  },
  {
   "cell_type": "code",
   "execution_count": null,
   "id": "bb021c50",
   "metadata": {},
   "outputs": [],
   "source": []
  },
  {
   "cell_type": "code",
   "execution_count": null,
   "id": "9846fc68",
   "metadata": {},
   "outputs": [],
   "source": []
  },
  {
   "cell_type": "code",
   "execution_count": 11,
   "id": "192fdd76",
   "metadata": {},
   "outputs": [],
   "source": [
    "data.split_dataset(dataset)"
   ]
  },
  {
   "cell_type": "code",
   "execution_count": null,
   "id": "f565311e",
   "metadata": {},
   "outputs": [],
   "source": []
  }
 ],
 "metadata": {
  "kernelspec": {
   "display_name": "Python 3 (ipykernel)",
   "language": "python",
   "name": "python3"
  },
  "language_info": {
   "codemirror_mode": {
    "name": "ipython",
    "version": 3
   },
   "file_extension": ".py",
   "mimetype": "text/x-python",
   "name": "python",
   "nbconvert_exporter": "python",
   "pygments_lexer": "ipython3",
   "version": "3.9.12"
  }
 },
 "nbformat": 4,
 "nbformat_minor": 5
}
