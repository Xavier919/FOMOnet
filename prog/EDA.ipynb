{
 "cells": [
  {
   "cell_type": "code",
   "execution_count": 1,
   "id": "c11bc6aa",
   "metadata": {},
   "outputs": [],
   "source": [
    "#imports\n",
    "import pickle\n",
    "import torch\n",
    "import math\n",
    "import numpy as np\n",
    "from collections import Counter"
   ]
  },
  {
   "cell_type": "code",
   "execution_count": 2,
   "id": "b043b0a7",
   "metadata": {},
   "outputs": [],
   "source": [
    "#project specific imports\n",
    "from modules.utils import *\n",
    "from modules.build_dataset import *"
   ]
  },
  {
   "cell_type": "code",
   "execution_count": null,
   "id": "04fc446c",
   "metadata": {},
   "outputs": [],
   "source": []
  },
  {
   "cell_type": "code",
   "execution_count": 3,
   "id": "f03a21c8",
   "metadata": {},
   "outputs": [],
   "source": [
    "#OP_tsv: OpenProt 1.6\n",
    "#Ens_trx: mart_export (ensembl 95)\n",
    "#trx_fasta: transcripts fasta (ensembl 95)\n",
    "#sorfs: list of ribo-seq orfs (mudge & al., 2022)\n",
    "data = Data(\n",
    "    OP_tsv = 'data/human-openprot-r1_6-refprots+altprots+isoforms-+uniprot2019_03_01.tsv', \n",
    "    Ens_trx = 'data/mart_export.txt',\n",
    "    trx_fasta = 'data/ensembl95_trxps.fasta',\n",
    "    sorfs = 'data/sorfs.xlsx',\n",
    "    unique_pept = 'data/alts_TE3_UniqPep2_MS3.csv'\n",
    ")"
   ]
  },
  {
   "cell_type": "code",
   "execution_count": null,
   "id": "9c0fdd6f",
   "metadata": {},
   "outputs": [],
   "source": []
  },
  {
   "cell_type": "code",
   "execution_count": 4,
   "id": "65845636",
   "metadata": {},
   "outputs": [],
   "source": [
    "#ensembl_trx = data.ensembl_trx()\n",
    "#pickle.dump(ensembl_trx, open('data/ensembl_trx.pkl', 'wb'))\n",
    "ensembl_trx = pickle.load(open('data/ensembl_trx.pkl', 'rb'))"
   ]
  },
  {
   "cell_type": "code",
   "execution_count": 5,
   "id": "e1a7fe59",
   "metadata": {},
   "outputs": [],
   "source": [
    "#trx_orfs = data.trx_orfs(ensembl_trx)\n",
    "#pickle.dump(trx_orfs, open('data/trx_orfs.pkl', 'wb'))\n",
    "trx_orfs = pickle.load(open('data/trx_orfs.pkl', 'rb'))"
   ]
  },
  {
   "cell_type": "code",
   "execution_count": null,
   "id": "ac5ffd54",
   "metadata": {},
   "outputs": [],
   "source": []
  },
  {
   "cell_type": "code",
   "execution_count": 219,
   "id": "c4545b3c",
   "metadata": {},
   "outputs": [],
   "source": [
    "seq1 = torch.rand(1, 5)\n",
    "seq2 = torch.rand(1, 6)\n",
    "seq3 = torch.rand(1, 7)\n",
    "seq4 = torch.rand(1, 11)"
   ]
  },
  {
   "cell_type": "code",
   "execution_count": 259,
   "id": "59c92c60",
   "metadata": {},
   "outputs": [],
   "source": [
    "seq1 = torch.rand(4, 5)\n",
    "seq2 = torch.rand(4, 6)\n",
    "seq3 = torch.rand(4, 7)\n",
    "seq4 = torch.rand(4, 11)"
   ]
  },
  {
   "cell_type": "code",
   "execution_count": 260,
   "id": "0903743f",
   "metadata": {},
   "outputs": [],
   "source": [
    "seqs = [seq1, seq2, seq3, seq4]"
   ]
  },
  {
   "cell_type": "code",
   "execution_count": 276,
   "id": "b3fc5325",
   "metadata": {},
   "outputs": [],
   "source": [
    "def pad_seqs(seqs, num_chan):\n",
    "    pad_seqs = []\n",
    "    max_len = max([x.shape[1] for x in seqs])\n",
    "    for seq in seqs:\n",
    "        diff_len = max_len - seq.shape[1]\n",
    "        padL, padR = torch.zeros(num_chan, diff_len//2), torch.zeros(num_chan, diff_len//2+diff_len%2)\n",
    "        pad_seq = torch.cat([padL, seq, padR], dim=1)\n",
    "        pad_seqs.append(pad_seq)\n",
    "    return torch.stack(pad_seqs, dim=0)"
   ]
  },
  {
   "cell_type": "code",
   "execution_count": 277,
   "id": "05555d75",
   "metadata": {},
   "outputs": [],
   "source": [
    "padded_seqs = pad_seqs(seqs, 4)"
   ]
  },
  {
   "cell_type": "code",
   "execution_count": 288,
   "id": "026f2d10",
   "metadata": {},
   "outputs": [
    {
     "data": {
      "text/plain": [
       "tensor([[False, False, False,  True,  True,  True,  True,  True, False, False,\n",
       "         False],\n",
       "        [False, False,  True,  True,  True,  True,  True,  True, False, False,\n",
       "         False],\n",
       "        [False, False,  True,  True,  True,  True,  True,  True,  True, False,\n",
       "         False],\n",
       "        [ True,  True,  True,  True,  True,  True,  True,  True,  True,  True,\n",
       "          True]])"
      ]
     },
     "execution_count": 288,
     "metadata": {},
     "output_type": "execute_result"
    }
   ],
   "source": [
    "torch.stack([x[0] != 0 for x in padded_seqs])"
   ]
  },
  {
   "cell_type": "code",
   "execution_count": 279,
   "id": "5dddff5e",
   "metadata": {},
   "outputs": [
    {
     "data": {
      "text/plain": [
       "tensor([[[False, False, False,  True,  True,  True,  True,  True, False, False,\n",
       "          False],\n",
       "         [False, False, False,  True,  True,  True,  True,  True, False, False,\n",
       "          False],\n",
       "         [False, False, False,  True,  True,  True,  True,  True, False, False,\n",
       "          False],\n",
       "         [False, False, False,  True,  True,  True,  True,  True, False, False,\n",
       "          False]],\n",
       "\n",
       "        [[False, False,  True,  True,  True,  True,  True,  True, False, False,\n",
       "          False],\n",
       "         [False, False,  True,  True,  True,  True,  True,  True, False, False,\n",
       "          False],\n",
       "         [False, False,  True,  True,  True,  True,  True,  True, False, False,\n",
       "          False],\n",
       "         [False, False,  True,  True,  True,  True,  True,  True, False, False,\n",
       "          False]],\n",
       "\n",
       "        [[False, False,  True,  True,  True,  True,  True,  True,  True, False,\n",
       "          False],\n",
       "         [False, False,  True,  True,  True,  True,  True,  True,  True, False,\n",
       "          False],\n",
       "         [False, False,  True,  True,  True,  True,  True,  True,  True, False,\n",
       "          False],\n",
       "         [False, False,  True,  True,  True,  True,  True,  True,  True, False,\n",
       "          False]],\n",
       "\n",
       "        [[ True,  True,  True,  True,  True,  True,  True,  True,  True,  True,\n",
       "           True],\n",
       "         [ True,  True,  True,  True,  True,  True,  True,  True,  True,  True,\n",
       "           True],\n",
       "         [ True,  True,  True,  True,  True,  True,  True,  True,  True,  True,\n",
       "           True],\n",
       "         [ True,  True,  True,  True,  True,  True,  True,  True,  True,  True,\n",
       "           True]]])"
      ]
     },
     "execution_count": 279,
     "metadata": {},
     "output_type": "execute_result"
    }
   ],
   "source": [
    "padded_seqs != 0"
   ]
  },
  {
   "cell_type": "code",
   "execution_count": null,
   "id": "1123009c",
   "metadata": {},
   "outputs": [],
   "source": []
  },
  {
   "cell_type": "code",
   "execution_count": null,
   "id": "e5ee23f4",
   "metadata": {},
   "outputs": [],
   "source": []
  },
  {
   "cell_type": "code",
   "execution_count": 263,
   "id": "ddd488fc",
   "metadata": {},
   "outputs": [],
   "source": [
    "def utility_fct(Xy):\n",
    "    X, y = Xy\n",
    "    X, y = pad_seqs(X, 4), pad_seqs(y, 1)\n",
    "    return (X, y)"
   ]
  },
  {
   "cell_type": "code",
   "execution_count": null,
   "id": "bd9ff830",
   "metadata": {},
   "outputs": [],
   "source": []
  },
  {
   "cell_type": "code",
   "execution_count": null,
   "id": "929d918f",
   "metadata": {},
   "outputs": [],
   "source": []
  },
  {
   "cell_type": "code",
   "execution_count": null,
   "id": "8617c818",
   "metadata": {},
   "outputs": [],
   "source": []
  },
  {
   "cell_type": "code",
   "execution_count": null,
   "id": "6d3cab62",
   "metadata": {},
   "outputs": [],
   "source": []
  },
  {
   "cell_type": "code",
   "execution_count": null,
   "id": "42f4e615",
   "metadata": {},
   "outputs": [],
   "source": []
  },
  {
   "cell_type": "code",
   "execution_count": null,
   "id": "448dc077",
   "metadata": {},
   "outputs": [],
   "source": []
  },
  {
   "cell_type": "code",
   "execution_count": null,
   "id": "89329d76",
   "metadata": {},
   "outputs": [],
   "source": [
    "dataset = data.dataset(ensembl_trx, trx_orfs)\n",
    "pickle.dump(dataset, open('data/dataset.pkl', 'wb'))\n",
    "#dataset = pickle.load(open('data/dataset.pkl', 'rb'))"
   ]
  },
  {
   "cell_type": "code",
   "execution_count": null,
   "id": "a9357109",
   "metadata": {},
   "outputs": [],
   "source": []
  },
  {
   "cell_type": "code",
   "execution_count": null,
   "id": "a0760ba6",
   "metadata": {},
   "outputs": [],
   "source": [
    "from sklearn.model_selection import train_test_split\n",
    "X = [x['mapped_seq'] for x in dataset.values()]\n",
    "y = [x['mapped_cds'] for x in dataset.values()]\n",
    "X_train, X_test, y_train, y_test = train_test_split(X, y, test_size=0.1, random_state=42)\n",
    "\n",
    "train_split = (X_train,y_train)\n",
    "test_split = (X_test,y_test)\n",
    "pickle.dump(train_split, open('data/train_split.pkl', 'wb'))\n",
    "pickle.dump(test_split, open('data/test_split.pkl', 'wb'))"
   ]
  },
  {
   "cell_type": "code",
   "execution_count": null,
   "id": "f565311e",
   "metadata": {},
   "outputs": [],
   "source": []
  }
 ],
 "metadata": {
  "kernelspec": {
   "display_name": "Python 3 (ipykernel)",
   "language": "python",
   "name": "python3"
  },
  "language_info": {
   "codemirror_mode": {
    "name": "ipython",
    "version": 3
   },
   "file_extension": ".py",
   "mimetype": "text/x-python",
   "name": "python",
   "nbconvert_exporter": "python",
   "pygments_lexer": "ipython3",
   "version": "3.9.12"
  }
 },
 "nbformat": 4,
 "nbformat_minor": 5
}
