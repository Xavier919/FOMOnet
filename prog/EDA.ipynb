{
 "cells": [
  {
   "cell_type": "code",
   "execution_count": 1,
   "id": "c11bc6aa",
   "metadata": {},
   "outputs": [],
   "source": [
    "#imports\n",
    "import pickle\n",
    "import torch\n",
    "from torch import nn\n",
    "import torchvision\n",
    "import torch.optim as optim"
   ]
  },
  {
   "cell_type": "code",
   "execution_count": 2,
   "id": "b043b0a7",
   "metadata": {},
   "outputs": [],
   "source": [
    "#project specific imports\n",
    "from modules.utils import *\n",
    "from modules.build_dataset import *"
   ]
  },
  {
   "cell_type": "code",
   "execution_count": null,
   "id": "04fc446c",
   "metadata": {},
   "outputs": [],
   "source": []
  },
  {
   "cell_type": "code",
   "execution_count": 3,
   "id": "f03a21c8",
   "metadata": {},
   "outputs": [],
   "source": [
    "#OP_tsv: OpenProt 1.6\n",
    "#Ens_trx: mart_export (ensembl 95)\n",
    "#trx_fasta: transcripts fasta (ensembl 95)\n",
    "#sorfs: list of ribo-seq orfs (mudge & al., 2022)\n",
    "data = Data(\n",
    "    OP_tsv = 'data/human-openprot-r1_6-refprots+altprots+isoforms-+uniprot2019_03_01.tsv', \n",
    "    Ens_trx = 'data/mart_export.txt',\n",
    "    trx_fasta = 'data/ensembl95_trxps.fasta',\n",
    "    sorfs = 'data/sorfs.xlsx'\n",
    ")"
   ]
  },
  {
   "cell_type": "code",
   "execution_count": null,
   "id": "5dc659de",
   "metadata": {},
   "outputs": [],
   "source": []
  },
  {
   "cell_type": "code",
   "execution_count": 4,
   "id": "65845636",
   "metadata": {},
   "outputs": [],
   "source": [
    "#ensembl_trx = data.ensembl_trx()\n",
    "#pickle.dump(ensembl_trx, open('data/ensembl_trx.pkl', 'wb'))\n",
    "ensembl_trx = pickle.load(open('data/ensembl_trx.pkl', 'rb'))"
   ]
  },
  {
   "cell_type": "code",
   "execution_count": 11,
   "id": "e1a7fe59",
   "metadata": {},
   "outputs": [],
   "source": [
    "#trx_orfs = data.trx_orfs(ensembl_trx)\n",
    "#pickle.dump(trx_orfs, open('data/trx_orfs.pkl', 'wb'))\n",
    "trx_orfs = pickle.load(open('data/trx_orfs.pkl', 'rb'))"
   ]
  },
  {
   "cell_type": "code",
   "execution_count": 4,
   "id": "4287692e",
   "metadata": {},
   "outputs": [],
   "source": [
    "#dataset = data.dataset(ensembl_trx, trx_orfs)\n",
    "#pickle.dump(dataset, open('data/dataset.pkl', 'wb'))\n",
    "dataset = pickle.load(open('data/dataset.pkl', 'rb'))"
   ]
  },
  {
   "cell_type": "code",
   "execution_count": 8,
   "id": "710d3461",
   "metadata": {},
   "outputs": [],
   "source": [
    "#sorfs_dataset = data.sorfs_dataset(ensembl_trx)\n",
    "#pickle.dump(sorfs_dataset, open('data/sorfs_dataset.pkl', 'wb'))"
   ]
  },
  {
   "cell_type": "code",
   "execution_count": null,
   "id": "7c213e30",
   "metadata": {},
   "outputs": [],
   "source": []
  },
  {
   "cell_type": "code",
   "execution_count": 12,
   "id": "57d1ff06",
   "metadata": {},
   "outputs": [],
   "source": [
    "alt_dataset = data.alt_dataset(ensembl_trx, trx_orfs, alt_orfs)\n",
    "#pickle.dump(alt_dataset, open('data/alt_dataset.pkl', 'wb'))"
   ]
  },
  {
   "cell_type": "code",
   "execution_count": 15,
   "id": "7aafe2c9",
   "metadata": {},
   "outputs": [],
   "source": [
    "pickle.dump(alt_dataset, open('data/alt_dataset.pkl', 'wb'))"
   ]
  },
  {
   "cell_type": "code",
   "execution_count": null,
   "id": "1af675d3",
   "metadata": {},
   "outputs": [],
   "source": []
  },
  {
   "cell_type": "code",
   "execution_count": 9,
   "id": "9e6068e3",
   "metadata": {},
   "outputs": [],
   "source": [
    "alt_orfs = alt_orfs(ensembl_trx)"
   ]
  },
  {
   "cell_type": "code",
   "execution_count": null,
   "id": "204693dc",
   "metadata": {},
   "outputs": [],
   "source": []
  },
  {
   "cell_type": "code",
   "execution_count": null,
   "id": "ee2c459b",
   "metadata": {},
   "outputs": [],
   "source": []
  },
  {
   "cell_type": "code",
   "execution_count": 8,
   "id": "724cde6b",
   "metadata": {},
   "outputs": [],
   "source": [
    "def alt_orfs(ensembl_trx):\n",
    "    alt_orfs = []\n",
    "    with open('data/ncrna_tsv.tsv', 'r') as f:\n",
    "        reader = csv.reader(f, delimiter='\\t')\n",
    "        for n, row in enumerate(reader):\n",
    "            if n == 0:\n",
    "                continue\n",
    "            if n == 1:\n",
    "                cols = row\n",
    "                continue\n",
    "            line = dict(zip(cols, row))\n",
    "            if 'ENST' not in line[\"transcript accession\"]:\n",
    "                continue\n",
    "            if not any(x in line[\"protein accession\"] for x in [\"IP_\", 'ENSP', \"II_\"]):\n",
    "                continue\n",
    "            trx = line[\"transcript accession\"].split(\".\")[0]\n",
    "            altprot = line[\"protein accession\"].split(\".\")[0]\n",
    "            alt_orfs.append((trx, altprot))\n",
    "    return alt_orfs"
   ]
  },
  {
   "cell_type": "code",
   "execution_count": null,
   "id": "70f9653c",
   "metadata": {},
   "outputs": [],
   "source": []
  },
  {
   "cell_type": "code",
   "execution_count": null,
   "id": "bb021c50",
   "metadata": {},
   "outputs": [],
   "source": []
  },
  {
   "cell_type": "code",
   "execution_count": null,
   "id": "9846fc68",
   "metadata": {},
   "outputs": [],
   "source": []
  },
  {
   "cell_type": "code",
   "execution_count": 11,
   "id": "192fdd76",
   "metadata": {},
   "outputs": [],
   "source": [
    "data.split_dataset(dataset)"
   ]
  },
  {
   "cell_type": "code",
   "execution_count": null,
   "id": "f565311e",
   "metadata": {},
   "outputs": [],
   "source": []
  }
 ],
 "metadata": {
  "kernelspec": {
   "display_name": "Python 3 (ipykernel)",
   "language": "python",
   "name": "python3"
  },
  "language_info": {
   "codemirror_mode": {
    "name": "ipython",
    "version": 3
   },
   "file_extension": ".py",
   "mimetype": "text/x-python",
   "name": "python",
   "nbconvert_exporter": "python",
   "pygments_lexer": "ipython3",
   "version": "3.9.12"
  }
 },
 "nbformat": 4,
 "nbformat_minor": 5
}
