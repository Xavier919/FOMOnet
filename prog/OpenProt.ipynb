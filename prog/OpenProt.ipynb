{
 "cells": [
  {
   "cell_type": "code",
   "execution_count": 1,
   "id": "c11bc6aa",
   "metadata": {},
   "outputs": [],
   "source": [
    "#imports\n",
    "import pickle\n",
    "import torch\n",
    "import math\n",
    "import numpy as np\n",
    "from collections import Counter"
   ]
  },
  {
   "cell_type": "code",
   "execution_count": 2,
   "id": "b043b0a7",
   "metadata": {},
   "outputs": [],
   "source": [
    "#project specific imports\n",
    "from modules.utils import *\n",
    "from modules.build_dataset import *"
   ]
  },
  {
   "cell_type": "code",
   "execution_count": 3,
   "id": "40b7afb3",
   "metadata": {},
   "outputs": [],
   "source": [
    "biotype_grouping = {\n",
    "            'protein_coding': 'protein_coding',\n",
    "            'processed_transcript': 'processed_transcript',\n",
    "            'miRNA': 'processed_transcript',\n",
    "            'misc_RNA': 'processed_transcript',\n",
    "            'unprocessed_pseudogene': 'pseudogene',\n",
    "            'antisense': 'processed_transcript',\n",
    "            'retained_intron': 'processed_transcript',\n",
    "            'processed_pseudogene': 'pseudogene',\n",
    "            'rRNA_pseudogene': 'pseudogene',\n",
    "            'sense_intronic': 'processed_transcript',\n",
    "            'lincRNA': 'processed_transcript',\n",
    "            'snoRNA': 'processed_transcript',\n",
    "            'snRNA': 'processed_transcript',\n",
    "            'transcribed_unprocessed_pseudogene': 'pseudogene',\n",
    "            'translated_processed_pseudogene': 'pseudogene',\n",
    "            'nonsense_mediated_decay': 'nmd',\n",
    "            'polymorphic_pseudogene': 'pseudogene',\n",
    "            'transcribed_processed_pseudogene': 'pseudogene',\n",
    "            'TEC': 'others',\n",
    "            'sense_overlapping': 'processed_transcript',\n",
    "            'TR_J_gene': 'others',\n",
    "            'IG_J_gene': 'others',\n",
    "            'IG_V_pseudogene': 'pseudogene',\n",
    "            'TR_V_gene': 'others',\n",
    "            'rRNA': 'processed_transcript',\n",
    "            'TR_C_gene': 'others',\n",
    "            'scaRNA': 'processed_transcript',\n",
    "            'IG_V_gene': 'others',\n",
    "            'pseudogene': 'pseudogene',\n",
    "            'bidirectional_promoter_lncRNA': 'processed_transcript',\n",
    "            'TR_V_pseudogene': 'pseudogene',\n",
    "            'Mt_tRNA': 'processed_transcript',\n",
    "            'unitary_pseudogene': 'pseudogene',\n",
    "            'IG_C_gene': 'others',\n",
    "            'IG_pseudogene': 'pseudogene',\n",
    "            'transcribed_unitary_pseudogene': 'pseudogene',\n",
    "            'IG_C_pseudogene': 'pseudogene',\n",
    "            'IG_D_gene': 'others',\n",
    "            'non_coding': 'processed_transcript',\n",
    "            'ribozyme': 'processed_transcript',\n",
    "            '3prime_overlapping_ncRNA': 'processed_transcript',\n",
    "            'TR_J_pseudogene': 'pseudogene',\n",
    "            'IG_J_pseudogene': 'pseudogene',\n",
    "            'non_stop_decay': 'nmd',\n",
    "            'sRNA': 'processed_transcript',\n",
    "            'TR_D_gene': 'others',\n",
    "            'scRNA': 'processed_transcript',\n",
    "            'vaultRNA': 'processed_transcript',\n",
    "            'Mt_rRNA': 'processed_transcript',\n",
    "            'macro_lncRNA': 'processed_transcript',\n",
    "            'lincrna': 'processed_transcript',\n",
    "            'lncRNA': 'processed_transcript',\n",
    "            'vault_RNA': 'processed_transcript',\n",
    "    'translated_unprocessed_pseudogene': 'pseudogene'\n",
    "            }"
   ]
  },
  {
   "cell_type": "code",
   "execution_count": 4,
   "id": "04fc446c",
   "metadata": {},
   "outputs": [],
   "source": [
    "path_106 = 'data/other_species/human_106/human.txt'\n",
    "path_95 = 'data/other_species/human_95/human.txt'\n",
    "excel_path = 'data/other_species/human_95/OP_HS_Ref79_Alt81_gene-name.csv'"
   ]
  },
  {
   "cell_type": "code",
   "execution_count": 5,
   "id": "760fbe8b",
   "metadata": {},
   "outputs": [],
   "source": [
    "def get_trxps_info(path):\n",
    "    dataset = dict()\n",
    "    with open(path, 'r') as f:\n",
    "        reader = csv.reader(f, delimiter='\\t')\n",
    "        for n, row in tqdm(enumerate(reader)):\n",
    "            if n==0:\n",
    "                cols = row\n",
    "                continue\n",
    "            line = dict(zip(cols, row))\n",
    "            trx = line['Transcript stable ID']\n",
    "            dataset[trx] = {'gene_id': line['Gene stable ID'],\n",
    "                            'prot_id': line['Protein stable ID'],\n",
    "                            'gene_name': line['Gene name'],\n",
    "                            'trx_biotype': biotype_grouping[line['Transcript type']],\n",
    "                            'gene_biotype': biotype_grouping[line['Gene type']]}\n",
    "    return dataset"
   ]
  },
  {
   "cell_type": "code",
   "execution_count": 6,
   "id": "db8ffdfe",
   "metadata": {},
   "outputs": [
    {
     "data": {
      "application/vnd.jupyter.widget-view+json": {
       "model_id": "48036de1403944b7a90e751daaef28c5",
       "version_major": 2,
       "version_minor": 0
      },
      "text/plain": [
       "0it [00:00, ?it/s]"
      ]
     },
     "metadata": {},
     "output_type": "display_data"
    },
    {
     "data": {
      "application/vnd.jupyter.widget-view+json": {
       "model_id": "c8d1bce0131c43718a5d72c5e751f8db",
       "version_major": 2,
       "version_minor": 0
      },
      "text/plain": [
       "0it [00:00, ?it/s]"
      ]
     },
     "metadata": {},
     "output_type": "display_data"
    }
   ],
   "source": [
    "human_106 = get_trxps_info(path_106)\n",
    "human_95 = get_trxps_info(path_95)"
   ]
  },
  {
   "cell_type": "code",
   "execution_count": null,
   "id": "1d0d12df",
   "metadata": {},
   "outputs": [],
   "source": []
  },
  {
   "cell_type": "code",
   "execution_count": null,
   "id": "aeb09eec",
   "metadata": {},
   "outputs": [],
   "source": []
  },
  {
   "cell_type": "code",
   "execution_count": null,
   "id": "bac4b268",
   "metadata": {},
   "outputs": [],
   "source": []
  },
  {
   "cell_type": "code",
   "execution_count": 14,
   "id": "20117b13",
   "metadata": {},
   "outputs": [
    {
     "data": {
      "application/vnd.jupyter.widget-view+json": {
       "model_id": "0d615e640602450e8c59f76a382e446f",
       "version_major": 2,
       "version_minor": 0
      },
      "text/plain": [
       "0it [00:00, ?it/s]"
      ]
     },
     "metadata": {},
     "output_type": "display_data"
    }
   ],
   "source": [
    "import pandas as pd\n",
    "data_frame = pd.read_csv(excel_path, header=None)\n",
    "ref_to_cryp = dict()\n",
    "for index, row in tqdm(data_frame.iterrows()):\n",
    "    prot_id = row[1]\n",
    "    prev_biotype = ''\n",
    "    new_biotype = ''\n",
    "    #if prot_id.startswith('ENSP'): \n",
    "    for trx, obj in human_95.items():\n",
    "        if obj['prot_id'] == prot_id:\n",
    "            prev_biotype = obj['gene_biotype']\n",
    "    for trx, obj in human_106.items():\n",
    "        if obj['prot_id'] == prot_id:\n",
    "            new_biotype = obj['gene_biotype']\n",
    "    ref_to_cryp[index] = {'trx_id': row[0],\n",
    "                         'prev_id': row[1],\n",
    "                          'new_id': row[5],\n",
    "                         'gene_name': row[2],\n",
    "                         '1.6_type': row[3],\n",
    "                         '2.0_type': row[4],\n",
    "                         'prev_biotype': prev_biotype,\n",
    "                         'new_biotype': new_biotype}"
   ]
  },
  {
   "cell_type": "code",
   "execution_count": null,
   "id": "1787ea5f",
   "metadata": {},
   "outputs": [],
   "source": []
  },
  {
   "cell_type": "code",
   "execution_count": 1,
   "id": "58bc6e8a",
   "metadata": {},
   "outputs": [
    {
     "ename": "NameError",
     "evalue": "name 'ref_to_cryp' is not defined",
     "output_type": "error",
     "traceback": [
      "\u001b[0;31m---------------------------------------------------------------------------\u001b[0m",
      "\u001b[0;31mNameError\u001b[0m                                 Traceback (most recent call last)",
      "Input \u001b[0;32mIn [1]\u001b[0m, in \u001b[0;36m<cell line: 1>\u001b[0;34m()\u001b[0m\n\u001b[0;32m----> 1\u001b[0m [x \u001b[38;5;28;01mfor\u001b[39;00m x \u001b[38;5;129;01min\u001b[39;00m \u001b[43mref_to_cryp\u001b[49m\u001b[38;5;241m.\u001b[39mvalues() \u001b[38;5;28;01mif\u001b[39;00m x[\u001b[38;5;124m'\u001b[39m\u001b[38;5;124mprev_id\u001b[39m\u001b[38;5;124m'\u001b[39m]\u001b[38;5;241m.\u001b[39mstartswith(\u001b[38;5;124m'\u001b[39m\u001b[38;5;124mENSP00000378355.1\u001b[39m\u001b[38;5;124m'\u001b[39m)]\n",
      "\u001b[0;31mNameError\u001b[0m: name 'ref_to_cryp' is not defined"
     ]
    }
   ],
   "source": [
    "[x for x in ref_to_cryp.values() if x['prev_id'].startswith('ENSP00000378355.1')]"
   ]
  },
  {
   "cell_type": "code",
   "execution_count": null,
   "id": "a0ab77bc",
   "metadata": {},
   "outputs": [],
   "source": []
  }
 ],
 "metadata": {
  "kernelspec": {
   "display_name": "Python 3 (ipykernel)",
   "language": "python",
   "name": "python3"
  },
  "language_info": {
   "codemirror_mode": {
    "name": "ipython",
    "version": 3
   },
   "file_extension": ".py",
   "mimetype": "text/x-python",
   "name": "python",
   "nbconvert_exporter": "python",
   "pygments_lexer": "ipython3",
   "version": "3.9.12"
  }
 },
 "nbformat": 4,
 "nbformat_minor": 5
}
