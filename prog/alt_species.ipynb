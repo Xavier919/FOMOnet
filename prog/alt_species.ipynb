{
 "cells": [
  {
   "cell_type": "code",
   "execution_count": 1,
   "id": "19be3dfb",
   "metadata": {},
   "outputs": [],
   "source": [
    "import pickle\n",
    "from Bio import SeqIO"
   ]
  },
  {
   "cell_type": "code",
   "execution_count": 2,
   "id": "169f0e0b",
   "metadata": {},
   "outputs": [],
   "source": [
    "from modules.alt_species import Data"
   ]
  },
  {
   "cell_type": "code",
   "execution_count": 5,
   "id": "155342f0",
   "metadata": {},
   "outputs": [],
   "source": [
    "data = Data(\n",
    "    alt_trx = 'data/ensembl_109/human_trx.txt',\n",
    "    alt_cds = 'data/ensembl_109/human_cds.txt',\n",
    ")"
   ]
  },
  {
   "cell_type": "code",
   "execution_count": 6,
   "id": "6d904532",
   "metadata": {
    "collapsed": true
   },
   "outputs": [
    {
     "data": {
      "application/vnd.jupyter.widget-view+json": {
       "model_id": "3e45e320d547437785087edcc14d9976",
       "version_major": 2,
       "version_minor": 0
      },
      "text/plain": [
       "  0%|          | 0/30 [00:00<?, ?it/s]"
      ]
     },
     "metadata": {},
     "output_type": "display_data"
    },
    {
     "ename": "ValueError",
     "evalue": "not enough values to unpack (expected 2, got 1)",
     "output_type": "error",
     "traceback": [
      "\u001b[0;31m---------------------------------------------------------------------------\u001b[0m",
      "\u001b[0;31mValueError\u001b[0m                                Traceback (most recent call last)",
      "Input \u001b[0;32mIn [6]\u001b[0m, in \u001b[0;36m<cell line: 1>\u001b[0;34m()\u001b[0m\n\u001b[0;32m----> 1\u001b[0m dataset \u001b[38;5;241m=\u001b[39m \u001b[43mdata\u001b[49m\u001b[38;5;241;43m.\u001b[39;49m\u001b[43mget_dataset\u001b[49m\u001b[43m(\u001b[49m\u001b[43m)\u001b[49m\n",
      "File \u001b[0;32m/mnt/c/Users/Xavier/Desktop/FOMOnet/prog/modules/alt_species.py:28\u001b[0m, in \u001b[0;36mData.get_dataset\u001b[0;34m(self)\u001b[0m\n\u001b[1;32m     27\u001b[0m \u001b[38;5;28;01mdef\u001b[39;00m \u001b[38;5;21mget_dataset\u001b[39m(\u001b[38;5;28mself\u001b[39m):\n\u001b[0;32m---> 28\u001b[0m     trx_dict \u001b[38;5;241m=\u001b[39m \u001b[38;5;28;43mself\u001b[39;49m\u001b[38;5;241;43m.\u001b[39;49m\u001b[43mget_trx\u001b[49m\u001b[43m(\u001b[49m\u001b[43m)\u001b[49m\n\u001b[1;32m     29\u001b[0m     cds_dict \u001b[38;5;241m=\u001b[39m \u001b[38;5;28mself\u001b[39m\u001b[38;5;241m.\u001b[39mget_cds()\n\u001b[1;32m     30\u001b[0m     dataset \u001b[38;5;241m=\u001b[39m \u001b[38;5;28mdict\u001b[39m()\n",
      "File \u001b[0;32m/mnt/c/Users/Xavier/Desktop/FOMOnet/prog/modules/alt_species.py:13\u001b[0m, in \u001b[0;36mData.get_trx\u001b[0;34m(self)\u001b[0m\n\u001b[1;32m     11\u001b[0m \u001b[38;5;28;01mdef\u001b[39;00m \u001b[38;5;21mget_trx\u001b[39m(\u001b[38;5;28mself\u001b[39m):\n\u001b[1;32m     12\u001b[0m     trx_dict \u001b[38;5;241m=\u001b[39m \u001b[38;5;28mdict\u001b[39m()\n\u001b[0;32m---> 13\u001b[0m     \u001b[38;5;28;01mfor\u001b[39;00m name, seq \u001b[38;5;129;01min\u001b[39;00m tqdm(\u001b[38;5;28mself\u001b[39m\u001b[38;5;241m.\u001b[39malt_trx):\n\u001b[1;32m     14\u001b[0m         trx \u001b[38;5;241m=\u001b[39m name\u001b[38;5;241m.\u001b[39msplit(\u001b[38;5;124m'\u001b[39m\u001b[38;5;124m>\u001b[39m\u001b[38;5;124m'\u001b[39m)[\u001b[38;5;241m1\u001b[39m]\n\u001b[1;32m     15\u001b[0m         seq \u001b[38;5;241m=\u001b[39m \u001b[38;5;28mstr\u001b[39m(seq)\n",
      "\u001b[0;31mValueError\u001b[0m: not enough values to unpack (expected 2, got 1)"
     ]
    }
   ],
   "source": [
    "dataset = data.get_dataset()"
   ]
  },
  {
   "cell_type": "code",
   "execution_count": 9,
   "id": "eecd1089",
   "metadata": {},
   "outputs": [],
   "source": []
  },
  {
   "cell_type": "code",
   "execution_count": 21,
   "id": "f193871f",
   "metadata": {},
   "outputs": [],
   "source": [
    "human_trx = dict()\n",
    "fasta_file = \"data/ensembl_109/human_trx.txt\"\n",
    "for record in SeqIO.parse(fasta_file, \"fasta\"):\n",
    "    trx = str(record.id).split('|')[1]\n",
    "    biotype = str(record.id).split('|')[2]\n",
    "    gene_name = str(record.id).split('|')[-1]\n",
    "    seq = str(record.seq)\n",
    "    human_trx[trx] = {'sequence': seq,\n",
    "                     'biotype': biotype,\n",
    "                     'gene_name': gene_name}"
   ]
  },
  {
   "cell_type": "code",
   "execution_count": 23,
   "id": "4fee38e0",
   "metadata": {},
   "outputs": [],
   "source": [
    "human_cds = dict()\n",
    "fasta_file = \"data/ensembl_109/human_cds.txt\"\n",
    "for record in SeqIO.parse(fasta_file, \"fasta\"):\n",
    "    trx = str(record.id).split('|')[0]\n",
    "    biotype = str(record.id).split('|')[2]\n",
    "    gene_name = str(record.id).split('|')[1]\n",
    "    seq = str(record.seq)\n",
    "    human_cds[trx] = {'sequence': seq,\n",
    "                     'biotype': biotype,\n",
    "                     'gene_name': gene_name}"
   ]
  },
  {
   "cell_type": "code",
   "execution_count": 24,
   "id": "0e09b124",
   "metadata": {},
   "outputs": [
    {
     "data": {
      "text/plain": [
       "252702"
      ]
     },
     "execution_count": 24,
     "metadata": {},
     "output_type": "execute_result"
    }
   ],
   "source": [
    "len(human_cds)"
   ]
  },
  {
   "cell_type": "code",
   "execution_count": 25,
   "id": "5b16e50c",
   "metadata": {},
   "outputs": [
    {
     "data": {
      "text/plain": [
       "25337"
      ]
     },
     "execution_count": 25,
     "metadata": {},
     "output_type": "execute_result"
    }
   ],
   "source": [
    "len(human_trx)"
   ]
  },
  {
   "cell_type": "code",
   "execution_count": null,
   "id": "c893f48f",
   "metadata": {},
   "outputs": [],
   "source": []
  }
 ],
 "metadata": {
  "kernelspec": {
   "display_name": "Python 3 (ipykernel)",
   "language": "python",
   "name": "python3"
  },
  "language_info": {
   "codemirror_mode": {
    "name": "ipython",
    "version": 3
   },
   "file_extension": ".py",
   "mimetype": "text/x-python",
   "name": "python",
   "nbconvert_exporter": "python",
   "pygments_lexer": "ipython3",
   "version": "3.9.12"
  }
 },
 "nbformat": 4,
 "nbformat_minor": 5
}
