{
 "cells": [
  {
   "cell_type": "code",
   "execution_count": 1,
   "id": "b58f7600",
   "metadata": {},
   "outputs": [],
   "source": [
    "import pickle\n",
    "import torch\n",
    "from torch import nn\n",
    "import torchvision\n",
    "import torch.optim as optim\n",
    "from tqdm import tqdm_notebook as tqdm\n",
    "import csv\n",
    "from collections import Counter\n",
    "import numpy as np"
   ]
  },
  {
   "cell_type": "code",
   "execution_count": 2,
   "id": "713f16ab",
   "metadata": {},
   "outputs": [],
   "source": [
    "from modules.utils import *"
   ]
  },
  {
   "cell_type": "code",
   "execution_count": 5,
   "id": "8257ae81",
   "metadata": {},
   "outputs": [],
   "source": [
    "ensembl_trx = pickle.load(open('data/ensembl_trx.pkl', 'rb'))\n",
    "#trx_orfs = pickle.load(open('data/trx_orfs.pkl', 'rb'))\n",
    "#dataset = pickle.load(open('data/dataset.pkl', 'rb'))\n",
    "#alt_dataset = pickle.load(open('data/alt_dataset.pkl', 'rb'))"
   ]
  },
  {
   "cell_type": "code",
   "execution_count": null,
   "id": "26ffffae",
   "metadata": {},
   "outputs": [],
   "source": []
  },
  {
   "cell_type": "code",
   "execution_count": 7,
   "id": "729b2cba",
   "metadata": {},
   "outputs": [],
   "source": [
    "alt_data = [(x,y['sequence']) for x,y in ensembl_trx.items() if x in alt_dataset]"
   ]
  },
  {
   "cell_type": "code",
   "execution_count": 8,
   "id": "a910295b",
   "metadata": {},
   "outputs": [],
   "source": [
    "def build_fasta(data, filename):\n",
    "    fasta_sequences = []\n",
    "    for i, trx in enumerate(data):\n",
    "        trx_id, seq = trx[0], trx[1]\n",
    "        header = f'>{trx_id}'\n",
    "        fasta_sequence = header + '\\n' + seq.upper()\n",
    "        fasta_sequences.append(fasta_sequence)\n",
    "    \n",
    "    fasta_text = '\\n'.join(fasta_sequences)\n",
    "    \n",
    "    with open(filename + '.fa', 'w') as fasta_file:\n",
    "        fasta_file.write(fasta_text)"
   ]
  },
  {
   "cell_type": "code",
   "execution_count": 9,
   "id": "9ccffba3",
   "metadata": {},
   "outputs": [],
   "source": [
    "build_fasta(alt_data, f'mydb_alt_data')"
   ]
  },
  {
   "cell_type": "code",
   "execution_count": null,
   "id": "06f7906e",
   "metadata": {},
   "outputs": [],
   "source": []
  },
  {
   "cell_type": "code",
   "execution_count": null,
   "id": "c0246e27",
   "metadata": {},
   "outputs": [],
   "source": []
  },
  {
   "cell_type": "code",
   "execution_count": null,
   "id": "a78e48a6",
   "metadata": {},
   "outputs": [],
   "source": []
  },
  {
   "cell_type": "code",
   "execution_count": null,
   "id": "1a8348cd",
   "metadata": {},
   "outputs": [],
   "source": []
  },
  {
   "cell_type": "code",
   "execution_count": null,
   "id": "2bca4d72",
   "metadata": {},
   "outputs": [],
   "source": []
  },
  {
   "cell_type": "code",
   "execution_count": null,
   "id": "195ba36e",
   "metadata": {},
   "outputs": [],
   "source": []
  },
  {
   "cell_type": "code",
   "execution_count": null,
   "id": "9d911afd",
   "metadata": {},
   "outputs": [],
   "source": []
  },
  {
   "cell_type": "code",
   "execution_count": null,
   "id": "3543e0dd",
   "metadata": {},
   "outputs": [],
   "source": []
  },
  {
   "cell_type": "code",
   "execution_count": null,
   "id": "93cd2c78",
   "metadata": {},
   "outputs": [],
   "source": []
  },
  {
   "cell_type": "code",
   "execution_count": 27,
   "id": "73da44e9",
   "metadata": {},
   "outputs": [],
   "source": [
    "trx_chr = dict()\n",
    "for trx, orfs in trx_orfs.items():\n",
    "    if trx not in dataset:\n",
    "        continue\n",
    "    chr_ = list(set([x['chromosome'] for x in orfs.values()]))[0]\n",
    "    trx_chr[trx] = chr_\n",
    "\n",
    "chr_set1 = ['1', '7', '13', '19']\n",
    "chr_set2 = ['2', '8', '14', '20']\n",
    "chr_set3 = ['3', '9', '15', '21']\n",
    "chr_set4 = ['4', '10', '16', '22']\n",
    "chr_set5 = ['5', '11', '17', 'X']\n",
    "chr_set6 = ['6', '12', '18', 'Y']\n",
    "for idx, chr_set in enumerate([chr_set1, chr_set2, chr_set3, chr_set4, chr_set5, chr_set6]):\n",
    "    data = [(x,y['sequence']) for x,y in ensembl_trx.items() if x in dataset and trx_chr[x] in chr_set]\n",
    "    build_fasta(data, f'mydb{idx}')"
   ]
  },
  {
   "cell_type": "code",
   "execution_count": null,
   "id": "c536627d",
   "metadata": {},
   "outputs": [],
   "source": []
  },
  {
   "cell_type": "code",
   "execution_count": 10,
   "id": "708aec24",
   "metadata": {},
   "outputs": [],
   "source": [
    "bins = pickle.load(open('data/bins_.pkl', 'rb'))"
   ]
  },
  {
   "cell_type": "code",
   "execution_count": 11,
   "id": "60260251",
   "metadata": {},
   "outputs": [],
   "source": [
    "results = dict()\n",
    "with open('results.txt', 'r') as f:\n",
    "    reader = csv.reader(f, delimiter='\\t')\n",
    "    for n, row in enumerate(reader):\n",
    "        trx = row[0]\n",
    "        match = row[1]\n",
    "        if trx == match:\n",
    "            continue\n",
    "        if trx not in results:\n",
    "            results[trx] = [match]\n",
    "        else:\n",
    "            results[trx].append(match)"
   ]
  },
  {
   "cell_type": "code",
   "execution_count": 12,
   "id": "e574a159",
   "metadata": {},
   "outputs": [],
   "source": [
    "from tqdm.notebook import tqdm"
   ]
  },
  {
   "cell_type": "code",
   "execution_count": 13,
   "id": "9b729031",
   "metadata": {},
   "outputs": [
    {
     "data": {
      "application/vnd.jupyter.widget-view+json": {
       "model_id": "1ab6b57c1bc24f9f876624606406b441",
       "version_major": 2,
       "version_minor": 0
      },
      "text/plain": [
       "  0%|          | 0/7411 [00:00<?, ?it/s]"
      ]
     },
     "metadata": {},
     "output_type": "display_data"
    }
   ],
   "source": [
    "alt_split = dict()\n",
    "for trx, matches in tqdm(results.items()):\n",
    "    alt_split[trx] = []\n",
    "    for match in matches:\n",
    "        for idx, bin_ in enumerate(bins):\n",
    "            if match in bin_:\n",
    "                alt_split[trx].append(idx)\n",
    "alt_split = {x:Counter(y).most_common(1)[0][0] for x,y in alt_split.items()}"
   ]
  },
  {
   "cell_type": "code",
   "execution_count": null,
   "id": "69318ed5",
   "metadata": {},
   "outputs": [],
   "source": []
  },
  {
   "cell_type": "code",
   "execution_count": 24,
   "id": "c496baef",
   "metadata": {},
   "outputs": [],
   "source": [
    "pickle.dump(alt_split, open('data/alt_split_idx.pkl', 'wb'))"
   ]
  },
  {
   "cell_type": "code",
   "execution_count": null,
   "id": "90ec9c01",
   "metadata": {},
   "outputs": [],
   "source": []
  },
  {
   "cell_type": "code",
   "execution_count": null,
   "id": "365473fd",
   "metadata": {},
   "outputs": [],
   "source": []
  },
  {
   "cell_type": "code",
   "execution_count": 14,
   "id": "9ebbb12a",
   "metadata": {},
   "outputs": [],
   "source": [
    "for split in set([x for x in alt_split.values()]):\n",
    "    X_test = [y['mapped_seq'] for x,y in alt_dataset.items() if x in alt_split and alt_split[x] == split]\n",
    "    y_test = [y['mapped_cds'] for x,y in alt_dataset.items() if x in alt_split and alt_split[x] == split]\n",
    "    test_split = (X_test,y_test)\n",
    "    pickle.dump(test_split, open(f'data/alt_split{split}.pkl', 'wb'))"
   ]
  },
  {
   "cell_type": "code",
   "execution_count": 15,
   "id": "be2d9c4c",
   "metadata": {},
   "outputs": [],
   "source": [
    "X_test = [y['mapped_seq'] for x,y in alt_dataset.items() if x not in alt_split]\n",
    "y_test = [y['mapped_cds'] for x,y in alt_dataset.items() if x not in alt_split]\n",
    "test_split = (X_test,y_test)\n",
    "pickle.dump(test_split, open(f'data/alt_split10.pkl', 'wb'))"
   ]
  },
  {
   "cell_type": "code",
   "execution_count": null,
   "id": "735907c1",
   "metadata": {},
   "outputs": [],
   "source": []
  },
  {
   "cell_type": "code",
   "execution_count": null,
   "id": "11bae3a3",
   "metadata": {},
   "outputs": [],
   "source": []
  }
 ],
 "metadata": {
  "kernelspec": {
   "display_name": "Python 3 (ipykernel)",
   "language": "python",
   "name": "python3"
  },
  "language_info": {
   "codemirror_mode": {
    "name": "ipython",
    "version": 3
   },
   "file_extension": ".py",
   "mimetype": "text/x-python",
   "name": "python",
   "nbconvert_exporter": "python",
   "pygments_lexer": "ipython3",
   "version": "3.9.12"
  }
 },
 "nbformat": 4,
 "nbformat_minor": 5
}
